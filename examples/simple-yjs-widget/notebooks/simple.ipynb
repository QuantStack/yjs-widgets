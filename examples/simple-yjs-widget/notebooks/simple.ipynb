{
 "cells": [
  {
   "cell_type": "code",
   "execution_count": null,
   "id": "2a245ed3-5838-4be6-ad5e-9fa75b9c7ab0",
   "metadata": {},
   "outputs": [],
   "source": [
    "from ypywidgets import Widget, reactive"
   ]
  },
  {
   "cell_type": "code",
   "execution_count": null,
   "id": "18d1ca71-1943-4902-b642-06e3d812e23f",
   "metadata": {},
   "outputs": [],
   "source": [
    "class MyWidget(Widget):\n",
    "    foo = reactive(\"\")\n",
    "    bar = reactive(\"\")"
   ]
  },
  {
   "cell_type": "code",
   "execution_count": null,
   "id": "8cfb218c-e6fe-48da-a6ee-599bfe524e15",
   "metadata": {},
   "outputs": [],
   "source": [
    "w = MyWidget()\n",
    "w"
   ]
  },
  {
   "cell_type": "code",
   "execution_count": null,
   "id": "72a7799e-ce21-43ed-865c-77fa1fc69eb2",
   "metadata": {},
   "outputs": [],
   "source": [
    "w.foo = 3"
   ]
  },
  {
   "cell_type": "code",
   "execution_count": null,
   "id": "d7289dc9-29c1-4422-8962-1b013bfda40a",
   "metadata": {},
   "outputs": [],
   "source": [
    "w.bar = 4"
   ]
  }
 ],
 "metadata": {
  "kernelspec": {
   "display_name": "Python 3 (ipykernel)",
   "language": "python",
   "name": "python3"
  },
  "language_info": {
   "codemirror_mode": {
    "name": "ipython",
    "version": 3
   },
   "file_extension": ".py",
   "mimetype": "text/x-python",
   "name": "python",
   "nbconvert_exporter": "python",
   "pygments_lexer": "ipython3",
   "version": "3.11.3"
  }
 },
 "nbformat": 4,
 "nbformat_minor": 5
}
